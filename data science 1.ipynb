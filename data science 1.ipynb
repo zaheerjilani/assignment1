{
 "cells": [
  {
   "cell_type": "code",
   "execution_count": 6,
   "id": "3f61350d",
   "metadata": {},
   "outputs": [
    {
     "name": "stdout",
     "output_type": "stream",
     "text": [
      "twinkle, twinkle, little star,\n",
      "How I wonder what you are!\n",
      "Up above the world so high,\n",
      "Like a diamond in the sky.\n",
      "\n",
      "Twinkle, twinkle, little star,\n",
      "How I wonder what you are\n"
     ]
    }
   ],
   "source": [
    "# Write a Python program to print the following string in a specific format (see the\n",
    "# output).\n",
    "print('''twinkle, twinkle, little star,\n",
    "How I wonder what you are!\n",
    "Up above the world so high,\n",
    "Like a diamond in the sky.\n",
    "\n",
    "Twinkle, twinkle, little star,\n",
    "How I wonder what you are''')"
   ]
  },
  {
   "cell_type": "code",
   "execution_count": 2,
   "id": "3a4ab4a2",
   "metadata": {},
   "outputs": [
    {
     "name": "stdout",
     "output_type": "stream",
     "text": [
      "3.8.8\n"
     ]
    }
   ],
   "source": [
    "# Write a python program to print the python version you are using\n",
    "from platform import python_version\n",
    "print(python_version())"
   ]
  },
  {
   "cell_type": "code",
   "execution_count": 1,
   "id": "217359ba",
   "metadata": {},
   "outputs": [
    {
     "name": "stdout",
     "output_type": "stream",
     "text": [
      "2022-01-18 02:42:35\n"
     ]
    }
   ],
   "source": [
    "# Write a python program to display current date & time\n",
    "from datetime import datetime \n",
    "print(datetime.fromtimestamp(1642502555))"
   ]
  },
  {
   "cell_type": "code",
   "execution_count": 2,
   "id": "cffa2afa",
   "metadata": {},
   "outputs": [
    {
     "name": "stdout",
     "output_type": "stream",
     "text": [
      "Enter a Number23\n",
      "1661.0600000000002\n"
     ]
    }
   ],
   "source": [
    "# Write a Python program which accepts the radius of a circle from the user and compute\n",
    "# the area\n",
    "a = int(input('Enter a Number'))\n",
    "pi = 3.14\n",
    "Area = pi * (a*a)\n",
    "print(Area)"
   ]
  },
  {
   "cell_type": "code",
   "execution_count": 3,
   "id": "d33c3fd5",
   "metadata": {},
   "outputs": [
    {
     "name": "stdout",
     "output_type": "stream",
     "text": [
      "enter your first namezaheer\n",
      "enter your second nameahmed\n",
      "ahmed zaheer\n"
     ]
    }
   ],
   "source": [
    "# Write a Python program which accepts the user's first and last name and print them in\n",
    "# reverse order with a space between them.\n",
    "a = input('enter your first name')\n",
    "b = input('enter your second name')\n",
    "print(b , a)"
   ]
  },
  {
   "cell_type": "code",
   "execution_count": 4,
   "id": "909955ef",
   "metadata": {},
   "outputs": [
    {
     "name": "stdout",
     "output_type": "stream",
     "text": [
      "Enter a Number6\n",
      "Enter 2nd Number2\n",
      "8\n"
     ]
    }
   ],
   "source": [
    "# Write a python program which takes 2 inputs from user and print them addition \n",
    "a = int(input('Enter a Number'))\n",
    "b = int(input('Enter 2nd Number'))\n",
    "c = a + b \n",
    "print(c)"
   ]
  },
  {
   "cell_type": "code",
   "execution_count": null,
   "id": "9c2c729b",
   "metadata": {},
   "outputs": [],
   "source": []
  }
 ],
 "metadata": {
  "kernelspec": {
   "display_name": "Python 3",
   "language": "python",
   "name": "python3"
  },
  "language_info": {
   "codemirror_mode": {
    "name": "ipython",
    "version": 3
   },
   "file_extension": ".py",
   "mimetype": "text/x-python",
   "name": "python",
   "nbconvert_exporter": "python",
   "pygments_lexer": "ipython3",
   "version": "3.8.8"
  }
 },
 "nbformat": 4,
 "nbformat_minor": 5
}
